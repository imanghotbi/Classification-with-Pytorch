{
  "cells": [
    {
      "cell_type": "markdown",
      "metadata": {
        "id": "tCb4oEP-TY92"
      },
      "source": [
        "# ANN for Image Classfication MNIST dataset"
      ]
    },
    {
      "cell_type": "code",
      "execution_count": null,
      "metadata": {
        "id": "kJUlcoNUssoc"
      },
      "outputs": [],
      "source": [
        "import torch\n",
        "import torch.nn as nn\n",
        "import torchvision\n",
        "import torchvision.transforms as transforms\n",
        "import numpy as np\n",
        "import matplotlib.pyplot as plt"
      ]
    },
    {
      "cell_type": "code",
      "execution_count": null,
      "metadata": {
        "colab": {
          "base_uri": "https://localhost:8080/"
        },
        "id": "J_xRU8sfvkC4",
        "outputId": "f09bb945-bf89-403d-f834-0b0d975a6e94"
      },
      "outputs": [
        {
          "name": "stdout",
          "output_type": "stream",
          "text": [
            "Downloading http://yann.lecun.com/exdb/mnist/train-images-idx3-ubyte.gz\n",
            "Downloading http://yann.lecun.com/exdb/mnist/train-images-idx3-ubyte.gz to ./MNIST/raw/train-images-idx3-ubyte.gz\n"
          ]
        },
        {
          "name": "stderr",
          "output_type": "stream",
          "text": [
            "100%|██████████| 9912422/9912422 [00:00<00:00, 128467596.27it/s]\n"
          ]
        },
        {
          "name": "stdout",
          "output_type": "stream",
          "text": [
            "Extracting ./MNIST/raw/train-images-idx3-ubyte.gz to ./MNIST/raw\n",
            "\n",
            "Downloading http://yann.lecun.com/exdb/mnist/train-labels-idx1-ubyte.gz\n",
            "Downloading http://yann.lecun.com/exdb/mnist/train-labels-idx1-ubyte.gz to ./MNIST/raw/train-labels-idx1-ubyte.gz\n"
          ]
        },
        {
          "name": "stderr",
          "output_type": "stream",
          "text": [
            "100%|██████████| 28881/28881 [00:00<00:00, 40786428.90it/s]\n"
          ]
        },
        {
          "name": "stdout",
          "output_type": "stream",
          "text": [
            "Extracting ./MNIST/raw/train-labels-idx1-ubyte.gz to ./MNIST/raw\n",
            "\n",
            "Downloading http://yann.lecun.com/exdb/mnist/t10k-images-idx3-ubyte.gz\n",
            "Downloading http://yann.lecun.com/exdb/mnist/t10k-images-idx3-ubyte.gz to ./MNIST/raw/t10k-images-idx3-ubyte.gz\n"
          ]
        },
        {
          "name": "stderr",
          "output_type": "stream",
          "text": [
            "100%|██████████| 1648877/1648877 [00:00<00:00, 40224339.69it/s]"
          ]
        },
        {
          "name": "stdout",
          "output_type": "stream",
          "text": [
            "Extracting ./MNIST/raw/t10k-images-idx3-ubyte.gz to ./MNIST/raw\n"
          ]
        },
        {
          "name": "stderr",
          "output_type": "stream",
          "text": [
            "\n"
          ]
        },
        {
          "name": "stdout",
          "output_type": "stream",
          "text": [
            "\n",
            "Downloading http://yann.lecun.com/exdb/mnist/t10k-labels-idx1-ubyte.gz\n",
            "Downloading http://yann.lecun.com/exdb/mnist/t10k-labels-idx1-ubyte.gz to ./MNIST/raw/t10k-labels-idx1-ubyte.gz\n"
          ]
        },
        {
          "name": "stderr",
          "output_type": "stream",
          "text": [
            "100%|██████████| 4542/4542 [00:00<00:00, 4254249.39it/s]\n"
          ]
        },
        {
          "name": "stdout",
          "output_type": "stream",
          "text": [
            "Extracting ./MNIST/raw/t10k-labels-idx1-ubyte.gz to ./MNIST/raw\n",
            "\n"
          ]
        }
      ],
      "source": [
        "train_dataset=torchvision.datasets.MNIST(\n",
        "    root='.',\n",
        "    train=True,\n",
        "    download=True,\n",
        "    transform=transforms.ToTensor()\n",
        ")"
      ]
    },
    {
      "cell_type": "code",
      "execution_count": null,
      "metadata": {
        "colab": {
          "base_uri": "https://localhost:8080/"
        },
        "id": "5eYHPiU1wRmt",
        "outputId": "9589bcd6-61e9-4b45-dddd-9acf8547402b"
      },
      "outputs": [
        {
          "data": {
            "text/plain": [
              "torch.Size([60000, 28, 28])"
            ]
          },
          "execution_count": 3,
          "metadata": {},
          "output_type": "execute_result"
        }
      ],
      "source": [
        "train_dataset.data.shape"
      ]
    },
    {
      "cell_type": "code",
      "execution_count": null,
      "metadata": {
        "colab": {
          "base_uri": "https://localhost:8080/"
        },
        "id": "YP-6fBLYwT5b",
        "outputId": "ee8bd445-2769-4ae4-9b54-9034e975d1bb"
      },
      "outputs": [
        {
          "data": {
            "text/plain": [
              "tensor(255, dtype=torch.uint8)"
            ]
          },
          "execution_count": 4,
          "metadata": {},
          "output_type": "execute_result"
        }
      ],
      "source": [
        "train_dataset.data.max()"
      ]
    },
    {
      "cell_type": "code",
      "execution_count": null,
      "metadata": {
        "colab": {
          "base_uri": "https://localhost:8080/"
        },
        "id": "CmPJg4-qwi6m",
        "outputId": "acb120cd-9331-48e9-f9dc-92e6d80ac70d"
      },
      "outputs": [
        {
          "data": {
            "text/plain": [
              "tensor([5, 0, 4,  ..., 5, 6, 8])"
            ]
          },
          "execution_count": 5,
          "metadata": {},
          "output_type": "execute_result"
        }
      ],
      "source": [
        "train_dataset.targets"
      ]
    },
    {
      "cell_type": "code",
      "execution_count": null,
      "metadata": {
        "id": "e-midPDhxbSe"
      },
      "outputs": [],
      "source": [
        "test_dataset=torchvision.datasets.MNIST(\n",
        "    root='.',\n",
        "    train=False,\n",
        "    download=True,\n",
        "    transform=transforms.ToTensor()\n",
        ")"
      ]
    },
    {
      "cell_type": "code",
      "execution_count": null,
      "metadata": {
        "colab": {
          "base_uri": "https://localhost:8080/"
        },
        "id": "AXBjjmhq_4fP",
        "outputId": "c9898753-f8ba-4e55-879c-52734d99cf6b"
      },
      "outputs": [
        {
          "data": {
            "text/plain": [
              "torch.Size([10000, 28, 28])"
            ]
          },
          "execution_count": 7,
          "metadata": {},
          "output_type": "execute_result"
        }
      ],
      "source": [
        "test_dataset.data.shape"
      ]
    },
    {
      "cell_type": "code",
      "execution_count": null,
      "metadata": {
        "id": "ot2HanB30Lqc"
      },
      "outputs": [],
      "source": [
        "model=nn.Sequential(\n",
        "    nn.Linear(784,128),\n",
        "    nn.ReLU(),\n",
        "    nn.Linear(128,10)\n",
        ")"
      ]
    },
    {
      "cell_type": "code",
      "execution_count": null,
      "metadata": {
        "colab": {
          "base_uri": "https://localhost:8080/"
        },
        "id": "u1zsK0HCzWo9",
        "outputId": "9a1823f4-8cb7-4d8f-8ad6-a55e1b4db48d"
      },
      "outputs": [
        {
          "data": {
            "text/plain": [
              "Sequential(\n",
              "  (0): Linear(in_features=784, out_features=128, bias=True)\n",
              "  (1): ReLU()\n",
              "  (2): Linear(in_features=128, out_features=10, bias=True)\n",
              ")"
            ]
          },
          "execution_count": 9,
          "metadata": {},
          "output_type": "execute_result"
        }
      ],
      "source": [
        "device =('cuda:0' if torch.cuda.is_available() else 'cpu')\n",
        "model.to(device)"
      ]
    },
    {
      "cell_type": "code",
      "execution_count": null,
      "metadata": {
        "id": "rueQKsTD05Xn"
      },
      "outputs": [],
      "source": [
        "Loss=nn.CrossEntropyLoss()\n",
        "optimizer=torch.optim.Adam(model.parameters())"
      ]
    },
    {
      "cell_type": "code",
      "execution_count": null,
      "metadata": {
        "colab": {
          "base_uri": "https://localhost:8080/"
        },
        "id": "wPtdCQtAz7eQ",
        "outputId": "c561f9d2-bf24-4d11-8108-6b30f9727317"
      },
      "outputs": [
        {
          "name": "stdout",
          "output_type": "stream",
          "text": [
            "torch.Size([128, 1, 28, 28])\n"
          ]
        }
      ],
      "source": [
        "batch_size=128\n",
        "train_loader=torch.utils.data.DataLoader(train_dataset,\n",
        "              batch_size=batch_size,\n",
        "              shuffle=True)\n",
        "test_loader=torch.utils.data.DataLoader(test_dataset,\n",
        "              batch_size=batch_size,\n",
        "              shuffle=False)\n",
        "for input,target in train_loader:\n",
        "  print(input.shape)\n",
        "  break"
      ]
    },
    {
      "cell_type": "code",
      "execution_count": null,
      "metadata": {
        "colab": {
          "base_uri": "https://localhost:8080/"
        },
        "id": "MeRi8x8G2-l_",
        "outputId": "b669263c-ea63-49eb-9858-f37d63cff1b4"
      },
      "outputs": [
        {
          "name": "stdout",
          "output_type": "stream",
          "text": [
            "Epoch 1/10, Train Loss:0.4179374575614929, Test Loss:0.22238637506961823\n",
            "Epoch 2/10, Train Loss:0.1951107233762741, Test Loss:0.15757295489311218\n",
            "Epoch 3/10, Train Loss:0.14174801111221313, Test Loss:0.127065047621727\n",
            "Epoch 4/10, Train Loss:0.11025452613830566, Test Loss:0.10975486040115356\n",
            "Epoch 5/10, Train Loss:0.08923421055078506, Test Loss:0.09934131056070328\n",
            "Epoch 6/10, Train Loss:0.07424307614564896, Test Loss:0.090920589864254\n",
            "Epoch 7/10, Train Loss:0.062150269746780396, Test Loss:0.07820919156074524\n",
            "Epoch 8/10, Train Loss:0.052511829882860184, Test Loss:0.07677143812179565\n",
            "Epoch 9/10, Train Loss:0.04516388103365898, Test Loss:0.07866150140762329\n",
            "Epoch 10/10, Train Loss:0.03894578665494919, Test Loss:0.0769713893532753\n"
          ]
        }
      ],
      "source": [
        "n_epoch=10\n",
        "train_losses=torch.zeros(n_epoch)\n",
        "test_losses=torch.zeros(n_epoch)\n",
        "for it in range(n_epoch):\n",
        "  train_loss=[]\n",
        "  for input,target in train_loader:\n",
        "    model.train()\n",
        "    input,target=input.to(device) , target.to(device)\n",
        "    input=input.view(-1,784)\n",
        "    optimizer.zero_grad()\n",
        "    outputs=model(input)\n",
        "    error=Loss(outputs,target)\n",
        "    error.backward()\n",
        "    optimizer.step()\n",
        "    train_loss.append(error.item())\n",
        "  train_losses[it]=np.mean(train_loss)\n",
        "  test_loss=[]\n",
        "  for input,target in test_loader:\n",
        "    model.eval()\n",
        "    with torch.inference_mode():\n",
        "    input,target=input.to(device) , target.to(device)\n",
        "    input=input.view(-1,784)\n",
        "    outputs=model(input)\n",
        "    error=Loss(outputs,target)\n",
        "    test_loss.append(error.item())\n",
        "  test_losses[it]=np.mean(test_loss)\n",
        "  print(f'Epoch {it+1}/{n_epoch}, Train Loss:{train_losses[it]}, Test Loss:{test_losses[it]}')"
      ]
    },
    {
      "cell_type": "code",
      "execution_count": null,
      "metadata": {
        "colab": {
          "base_uri": "https://localhost:8080/",
          "height": 430
        },
        "id": "aZRPL2cqJlEy",
        "outputId": "3387a389-188d-401b-989e-32978c0d4613"
      },
      "outputs": [
        {
          "data": {
            "image/png": "[encoded data removed]",
            "text/plain": [
              "<Figure size 640x480 with 1 Axes>"
            ]
          },
          "metadata": {},
          "output_type": "display_data"
        }
      ],
      "source": [
        "plt.plot(train_losses,label='train')\n",
        "plt.plot(test_losses,label='test')\n",
        "plt.legend()\n",
        "plt.show()"
      ]
    },
    {
      "cell_type": "code",
      "execution_count": null,
      "metadata": {
        "colab": {
          "base_uri": "https://localhost:8080/"
        },
        "id": "b0XFfiew6Noj",
        "outputId": "4602ce27-0e70-41b5-a8d1-da855a1b79cc"
      },
      "outputs": [
        {
          "name": "stdout",
          "output_type": "stream",
          "text": [
            "test accuracy: 0.9764 and train accuracy: 0.9912166666666666 \n"
          ]
        }
      ],
      "source": [
        "n_correct=0\n",
        "n_total=0\n",
        "for input,target in train_loader:\n",
        "  model.train()\n",
        "  input,target = input.to(device),target.to(device)\n",
        "  input=input.view(-1,784)\n",
        "  output=model(input)\n",
        "  _,predictions = output.max(1)\n",
        "  n_correct += (predictions == target).sum().item()\n",
        "  n_total += len(target)\n",
        "train_acc = n_correct / n_total\n",
        "n_correct=0\n",
        "n_total=0\n",
        "for input,target in test_loader:\n",
        "  model.eval()\n",
        "  with torch.inference_mode():\n",
        "    input,target = input.to(device),target.to(device)\n",
        "    input=input.view(-1,784)\n",
        "    output=model(input)\n",
        "    _,predictions = output.max(1)\n",
        "    n_correct += (predictions == target).sum().item()\n",
        "    n_total += len(target)\n",
        "test_acc = n_correct / n_total\n",
        "\n",
        "print(f'test accuracy: {test_acc} and train accuracy: {train_acc} ')"
      ]
    },
    {
      "cell_type": "code",
      "execution_count": null,
      "metadata": {
        "id": "4zeqgFQ28En6"
      },
      "outputs": [],
      "source": [
        "from sklearn.metrics import confusion_matrix , classification_report,ConfusionMatrixDisplay\n",
        "import seaborn as sns"
      ]
    },
    {
      "cell_type": "code",
      "execution_count": null,
      "metadata": {
        "id": "_VL9D2YL_O5K"
      },
      "outputs": [],
      "source": [
        "y_test = test_dataset.targets.numpy()\n",
        "p_test= np.array([])\n",
        "for input , target in test_loader:\n",
        "  input,target = input.to(device) , target.to(device)\n",
        "  input= input.view(-1,784)\n",
        "  output = model(input)\n",
        "  _,perdictions = output.max(1)\n",
        "  p_test = np.concatenate((p_test,perdictions.cpu().numpy()))"
      ]
    },
    {
      "cell_type": "code",
      "execution_count": null,
      "metadata": {
        "colab": {
          "base_uri": "https://localhost:8080/",
          "height": 466
        },
        "id": "iqOI3ovu90Ry",
        "outputId": "7911318f-c584-47ac-d76a-14947f0a441f"
      },
      "outputs": [
        {
          "data": {
            "text/plain": [
              "<sklearn.metrics._plot.confusion_matrix.ConfusionMatrixDisplay at 0x7f960e0a5e80>"
            ]
          },
          "execution_count": 17,
          "metadata": {},
          "output_type": "execute_result"
        },
        {
          "data": {
            "image/png": "[encoded data removed]",
            "text/plain": [
              "<Figure size 640x480 with 2 Axes>"
            ]
          },
          "metadata": {},
          "output_type": "display_data"
        }
      ],
      "source": [
        "cm = confusion_matrix(y_test, p_test, labels=[0,1,2,3,4,5,6,7,8,9])\n",
        "disp = ConfusionMatrixDisplay(confusion_matrix=cm,\n",
        "                               display_labels=[0,1,2,3,4,5,6,7,8,9])\n",
        "disp.plot()"
      ]
    },
    {
      "cell_type": "code",
      "execution_count": null,
      "metadata": {
        "colab": {
          "base_uri": "https://localhost:8080/",
          "height": 452
        },
        "id": "p-qgwvJfCB4C",
        "outputId": "01be6f97-9a5a-43ee-c5af-c29ba3b5f037"
      },
      "outputs": [
        {
          "data": {
            "image/png": "[encoded data removed]",
            "text/plain": [
              "<Figure size 640x480 with 1 Axes>"
            ]
          },
          "metadata": {},
          "output_type": "display_data"
        }
      ],
      "source": [
        "x_test = test_dataset.data.numpy()\n",
        "misclassified_idx=np.where(p_test != y_test)[0]\n",
        "i=np.random.choice(misclassified_idx)\n",
        "plt.imshow(x_test[i],cmap='gray')\n",
        "plt.title(f'true label {y_test[i]} , predeicted : {int(p_test[i])}')\n",
        "plt.show()"
      ]
    }
  ],
  "metadata": {
    "colab": {
      "provenance": []
    },
    "kernelspec": {
      "display_name": "Python 3",
      "name": "python3"
    },
    "language_info": {
      "name": "python"
    }
  },
  "nbformat": 4,
  "nbformat_minor": 0
}
