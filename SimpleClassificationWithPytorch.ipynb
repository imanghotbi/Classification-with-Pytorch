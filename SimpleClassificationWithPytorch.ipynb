{
  "cells": [
    {
      "cell_type": "markdown",
      "metadata": {
        "id": "N_iB0YDtVlGx"
      },
      "source": [
        "# Classification"
      ]
    },
    {
      "cell_type": "code",
      "execution_count": 1,
      "metadata": {
        "id": "-3Rhos-oMJUl"
      },
      "outputs": [],
      "source": [
        "import torch.nn as nn\n",
        "import pandas as pd \n",
        "import numpy as np\n",
        "import matplotlib.pyplot as plt\n",
        "import torch "
      ]
    },
    {
      "cell_type": "code",
      "execution_count": 2,
      "metadata": {
        "id": "O5H-PYcXMNCb"
      },
      "outputs": [],
      "source": [
        "from sklearn.datasets import load_breast_cancer\n",
        "from sklearn.preprocessing import StandardScaler\n",
        "from sklearn.model_selection import train_test_split"
      ]
    },
    {
      "cell_type": "code",
      "execution_count": 3,
      "metadata": {
        "id": "FYhXbQk9MUbS"
      },
      "outputs": [],
      "source": [
        "data=load_breast_cancer()"
      ]
    },
    {
      "cell_type": "code",
      "execution_count": 4,
      "metadata": {
        "id": "s2kiKPvHMwib"
      },
      "outputs": [],
      "source": [
        "X,Y=data['data'],data['target']"
      ]
    },
    {
      "cell_type": "code",
      "execution_count": 5,
      "metadata": {
        "id": "yXnJ0rXfMxZD"
      },
      "outputs": [],
      "source": [
        "X_train, X_test, y_train, y_test = train_test_split(X,Y, test_size=0.3, random_state=101)"
      ]
    },
    {
      "cell_type": "code",
      "execution_count": 6,
      "metadata": {
        "id": "GdZymawMNAF3"
      },
      "outputs": [],
      "source": [
        "scaler=StandardScaler()"
      ]
    },
    {
      "cell_type": "code",
      "execution_count": 17,
      "metadata": {
        "id": "DmJAImyGOHF_"
      },
      "outputs": [],
      "source": [
        "X_train=scaler.fit_transform(X_train)\n",
        "X_test=scaler.transform(X_test)\n",
        "N,D=X_train.shape"
      ]
    },
    {
      "cell_type": "code",
      "execution_count": 8,
      "metadata": {
        "id": "KVSwh1q4OhXZ"
      },
      "outputs": [],
      "source": [
        "model=nn.Sequential(\n",
        "    nn.Linear(D,1),\n",
        "    nn.Sigmoid()\n",
        ")"
      ]
    },
    {
      "cell_type": "code",
      "execution_count": 9,
      "metadata": {
        "id": "ET0xkEWXPRmI"
      },
      "outputs": [],
      "source": [
        "Loss=nn.BCELoss()\n",
        "optimizer = torch.optim.Adam(model.parameters())"
      ]
    },
    {
      "cell_type": "code",
      "execution_count": 10,
      "metadata": {
        "id": "cwudxcu9RUNC"
      },
      "outputs": [],
      "source": [
        "X_train=torch.from_numpy(X_train.astype(np.float32))\n",
        "X_test=torch.from_numpy(X_test.astype(np.float32))\n",
        "y_train=torch.from_numpy(y_train.astype(np.float32)).reshape(-1,1)\n",
        "y_test=torch.from_numpy(y_test.astype(np.float32)).reshape(-1,1)"
      ]
    },
    {
      "cell_type": "code",
      "execution_count": 11,
      "metadata": {
        "colab": {
          "base_uri": "https://localhost:8080/"
        },
        "id": "2rPZBW51Q2rn",
        "outputId": "bda1bc32-e2bd-4f35-ce1f-ac5ad7de5cce"
      },
      "outputs": [
        {
          "name": "stdout",
          "output_type": "stream",
          "text": [
            "Epochs: 50/2000 , Train_Loss: 0.6229633688926697, Test_Loss:0.6533323526382446 \n",
            "Epochs: 100/2000 , Train_Loss: 0.4339376389980316, Test_Loss:0.47296687960624695 \n",
            "Epochs: 150/2000 , Train_Loss: 0.33810773491859436, Test_Loss:0.38108599185943604 \n",
            "Epochs: 200/2000 , Train_Loss: 0.2807169556617737, Test_Loss:0.3265824317932129 \n",
            "Epochs: 250/2000 , Train_Loss: 0.24210773408412933, Test_Loss:0.290049284696579 \n",
            "Epochs: 300/2000 , Train_Loss: 0.21419739723205566, Test_Loss:0.2635114789009094 \n",
            "Epochs: 350/2000 , Train_Loss: 0.19302771985530853, Test_Loss:0.24319308996200562 \n",
            "Epochs: 400/2000 , Train_Loss: 0.1763981580734253, Test_Loss:0.22706259787082672 \n",
            "Epochs: 450/2000 , Train_Loss: 0.16297666728496552, Test_Loss:0.2139139026403427 \n",
            "Epochs: 500/2000 , Train_Loss: 0.15190759301185608, Test_Loss:0.20297642052173615 \n",
            "Epochs: 550/2000 , Train_Loss: 0.14261560142040253, Test_Loss:0.19372984766960144 \n",
            "Epochs: 600/2000 , Train_Loss: 0.1346994787454605, Test_Loss:0.18580740690231323 \n",
            "Epochs: 650/2000 , Train_Loss: 0.12787063419818878, Test_Loss:0.17894209921360016 \n",
            "Epochs: 700/2000 , Train_Loss: 0.12191609293222427, Test_Loss:0.17293408513069153 \n",
            "Epochs: 750/2000 , Train_Loss: 0.11667507141828537, Test_Loss:0.16763074696063995 \n",
            "Epochs: 800/2000 , Train_Loss: 0.11202386766672134, Test_Loss:0.16291354596614838 \n",
            "Epochs: 850/2000 , Train_Loss: 0.10786575078964233, Test_Loss:0.15868893265724182 \n",
            "Epochs: 900/2000 , Train_Loss: 0.10412394255399704, Test_Loss:0.15488223731517792 \n",
            "Epochs: 950/2000 , Train_Loss: 0.1007368415594101, Test_Loss:0.15143319964408875 \n",
            "Epochs: 1000/2000 , Train_Loss: 0.09765437990427017, Test_Loss:0.14829257130622864 \n",
            "Epochs: 1050/2000 , Train_Loss: 0.0948355421423912, Test_Loss:0.14541999995708466 \n",
            "Epochs: 1100/2000 , Train_Loss: 0.09224633127450943, Test_Loss:0.14278177917003632 \n",
            "Epochs: 1150/2000 , Train_Loss: 0.08985841274261475, Test_Loss:0.14034974575042725 \n",
            "Epochs: 1200/2000 , Train_Loss: 0.08764798194169998, Test_Loss:0.13810022175312042 \n",
            "Epochs: 1250/2000 , Train_Loss: 0.08559484034776688, Test_Loss:0.136013001203537 \n",
            "Epochs: 1300/2000 , Train_Loss: 0.08368181437253952, Test_Loss:0.13407085835933685 \n",
            "Epochs: 1350/2000 , Train_Loss: 0.08189418911933899, Test_Loss:0.13225898146629333 \n",
            "Epochs: 1400/2000 , Train_Loss: 0.08021922409534454, Test_Loss:0.13056455552577972 \n",
            "Epochs: 1450/2000 , Train_Loss: 0.07864591479301453, Test_Loss:0.12897640466690063 \n",
            "Epochs: 1500/2000 , Train_Loss: 0.0771646797657013, Test_Loss:0.12748487293720245 \n",
            "Epochs: 1550/2000 , Train_Loss: 0.07576710730791092, Test_Loss:0.1260814666748047 \n",
            "Epochs: 1600/2000 , Train_Loss: 0.07444581389427185, Test_Loss:0.12475866824388504 \n",
            "Epochs: 1650/2000 , Train_Loss: 0.07319426536560059, Test_Loss:0.12350986152887344 \n",
            "Epochs: 1700/2000 , Train_Loss: 0.07200668007135391, Test_Loss:0.12232927978038788 \n",
            "Epochs: 1750/2000 , Train_Loss: 0.07087790966033936, Test_Loss:0.12121172994375229 \n",
            "Epochs: 1800/2000 , Train_Loss: 0.06980335712432861, Test_Loss:0.12015250325202942 \n",
            "Epochs: 1850/2000 , Train_Loss: 0.06877889484167099, Test_Loss:0.11914760619401932 \n",
            "Epochs: 1900/2000 , Train_Loss: 0.06780082732439041, Test_Loss:0.11819329857826233 \n",
            "Epochs: 1950/2000 , Train_Loss: 0.06686579436063766, Test_Loss:0.1172863021492958 \n",
            "Epochs: 2000/2000 , Train_Loss: 0.06597080826759338, Test_Loss:0.11642355471849442 \n"
          ]
        }
      ],
      "source": [
        "n_epochs=2000\n",
        "train_losses=np.zeros(n_epochs)\n",
        "test_losses=np.zeros(n_epochs)\n",
        "acc=np.zeros(n_epochs)\n",
        "for i in range(n_epochs):\n",
        "  model.train()\n",
        "  optimizer.zero_grad()\n",
        "  outputs=model(X_train)\n",
        "  error=Loss(outputs,y_train)\n",
        "  train_losses[i]=error.item()\n",
        "  predicted=np.round(outputs.detach().numpy())\n",
        "  acc[i]=np.mean(predicted==y_train.detach().numpy())\n",
        "  error.backward()\n",
        "  optimizer.step()\n",
        "  # test losses\n",
        "  test_output=model(X_test)\n",
        "  error_test=Loss(test_output,y_test)\n",
        "  test_losses[i]=error_test.item()\n",
        "  if (i + 1) % 50  == 0:\n",
        "    print(f'Epochs: {i+1}/{n_epochs} , Train_Loss: {error.item()}, Test_Loss:{error_test.item()} ')"
      ]
    },
    {
      "cell_type": "code",
      "execution_count": 12,
      "metadata": {
        "colab": {
          "base_uri": "https://localhost:8080/",
          "height": 447
        },
        "id": "I5kG-rNUV5Yr",
        "outputId": "7c115e14-e007-44ae-dd6e-902ec054bcce"
      },
      "outputs": [
        {
          "data": {
            "text/plain": [
              "<matplotlib.legend.Legend at 0x7fe269981790>"
            ]
          },
          "execution_count": 12,
          "metadata": {},
          "output_type": "execute_result"
        },
        {
          "data": {
            "image/png": "[encoded data removed]",
            "text/plain": [
              "<Figure size 640x480 with 1 Axes>"
            ]
          },
          "metadata": {},
          "output_type": "display_data"
        }
      ],
      "source": [
        "plt.plot(train_losses,label='train loss')\n",
        "plt.plot(test_losses,label='test loss')\n",
        "plt.legend()"
      ]
    },
    {
      "cell_type": "code",
      "execution_count": 13,
      "metadata": {
        "colab": {
          "base_uri": "https://localhost:8080/"
        },
        "id": "UVGFtnztWQP0",
        "outputId": "5e4a9cc6-e399-45be-ddf7-d26b780c2e42"
      },
      "outputs": [
        {
          "name": "stdout",
          "output_type": "stream",
          "text": [
            "0.9798994974874372 0.9766081871345029\n"
          ]
        }
      ],
      "source": [
        "predicted=model(X_train)\n",
        "predicted=np.round(predicted.detach().numpy())\n",
        "train_acc=np.mean(predicted==y_train.detach().numpy())\n",
        "#-----\n",
        "predicted_test=model(X_test)\n",
        "predicted_test=np.round(predicted_test.detach().numpy())\n",
        "test_acc=np.mean(predicted_test==y_test.detach().numpy())\n",
        " \n",
        "print(train_acc , test_acc)"
      ]
    },
    {
      "cell_type": "code",
      "execution_count": 14,
      "metadata": {
        "colab": {
          "base_uri": "https://localhost:8080/",
          "height": 447
        },
        "id": "Y-x-SGSTXS6H",
        "outputId": "974ad20f-7e56-4203-bae4-539c72dbef63"
      },
      "outputs": [
        {
          "data": {
            "text/plain": [
              "[<matplotlib.lines.Line2D at 0x7fe266f3a490>]"
            ]
          },
          "execution_count": 14,
          "metadata": {},
          "output_type": "execute_result"
        },
        {
          "data": {
            "image/png": "[encoded data removed]",
            "text/plain": [
              "<Figure size 640x480 with 1 Axes>"
            ]
          },
          "metadata": {},
          "output_type": "display_data"
        }
      ],
      "source": [
        "plt.plot(acc)"
      ]
    },
    {
      "cell_type": "code",
      "execution_count": 15,
      "metadata": {
        "id": "HfZ-pYWmJ5DJ"
      },
      "outputs": [],
      "source": [
        "# saving our PyToruch model\n",
        "from pathlib import Path\n",
        "\n",
        "# 1.Create models dirctiory\n",
        "MODEL_PATH=Path('models')\n",
        "MODEL_PATH.mkdir(parents=True,exist_ok=True)\n",
        "# 2.Create model save path\n",
        "MODEL_NAME='first_pytorch.pth'\n",
        "MODEL_SAVE_PATH = MODEL_PATH/MODEL_NAME\n",
        "# 3.Save model state_dict\n",
        "torch.save(model.state_dict(),MODEL_SAVE_PATH)"
      ]
    },
    {
      "cell_type": "code",
      "execution_count": 18,
      "metadata": {
        "colab": {
          "base_uri": "https://localhost:8080/"
        },
        "id": "hOoeWsToJ9lR",
        "outputId": "c08d33db-89c0-4e7b-c286-f8c155e0e711"
      },
      "outputs": [
        {
          "data": {
            "text/plain": [
              "<All keys matched successfully>"
            ]
          },
          "execution_count": 18,
          "metadata": {},
          "output_type": "execute_result"
        }
      ],
      "source": [
        "# To load in a saved state_dict we have to instantiate a new instance of our model class\n",
        "loaded_model = nn.Sequential(\n",
        "    nn.Linear(30,1),\n",
        "    nn.Sigmoid()\n",
        ")\n",
        "loaded_model.load_state_dict(torch.load(MODEL_SAVE_PATH))"
      ]
    },
    {
      "cell_type": "code",
      "execution_count": 19,
      "metadata": {
        "colab": {
          "base_uri": "https://localhost:8080/"
        },
        "id": "lsPb_ys3KsPP",
        "outputId": "e38d029a-589c-4a28-b750-98f00e874697"
      },
      "outputs": [
        {
          "data": {
            "text/plain": [
              "OrderedDict([('0.weight',\n",
              "              tensor([[-0.4392, -0.4823, -0.3648, -0.5350, -0.2080, -0.0960, -0.3955, -0.3922,\n",
              "                       -0.2666,  0.6877, -0.4451,  0.0551, -0.3100, -0.5553,  0.0116,  0.1650,\n",
              "                        0.2165, -0.3272,  0.2159,  0.8653, -0.3902, -0.6500, -0.4079, -0.3543,\n",
              "                       -0.5133, -0.3405, -0.5751, -0.5812, -0.6312, -0.3396]])),\n",
              "             ('0.bias', tensor([0.7763]))])"
            ]
          },
          "execution_count": 19,
          "metadata": {},
          "output_type": "execute_result"
        }
      ],
      "source": [
        "loaded_model.state_dict()"
      ]
    },
    {
      "cell_type": "code",
      "execution_count": null,
      "metadata": {
        "id": "CoRy5TZMKv7u"
      },
      "outputs": [],
      "source": []
    }
  ],
  "metadata": {
    "colab": {
      "provenance": []
    },
    "kernelspec": {
      "display_name": "Python 3",
      "name": "python3"
    },
    "language_info": {
      "name": "python"
    }
  },
  "nbformat": 4,
  "nbformat_minor": 0
}
