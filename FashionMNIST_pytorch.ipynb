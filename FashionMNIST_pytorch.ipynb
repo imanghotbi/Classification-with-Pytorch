{
  "cells": [
    {
      "cell_type": "markdown",
      "metadata": {
        "id": "zMzejGQf5fxh"
      },
      "source": [
        "# CNN with Fashion MNIST Datset"
      ]
    },
    {
      "cell_type": "code",
      "execution_count": null,
      "metadata": {
        "id": "_LLkiDX2rS-d"
      },
      "outputs": [],
      "source": [
        "import torch\n",
        "import torch.nn as nn\n",
        "import torchvision\n",
        "import torchvision.transforms as transforms\n",
        "import numpy as np\n",
        "import matplotlib.pyplot as plt\n",
        "from datetime import datetime"
      ]
    },
    {
      "cell_type": "code",
      "execution_count": null,
      "metadata": {
        "colab": {
          "base_uri": "https://localhost:8080/",
          "height": 443,
          "referenced_widgets": [
            "b4fa7e4f31404ec3bb919e6d7bdbbe86",
            "c5cdbc910ee74eceaa31748ae58473c9",
            "b78cb033dd794c1db56cc5dbd48f684f",
            "57f66b0bab2f440098042520ce7f8594",
            "0f4d5aec19094b6695be61db8c962cf8",
            "1b0673c19fe942baa546331df51b4665",
            "d46392f9cde14d42ad8baadd67ce572c",
            "218e08b54c23472384325493add601b5",
            "03c5641fbfbb4f47872d91ca0b679804",
            "17ea80a65e9f4f6fb2173623cf89c23d",
            "e3d44e7c99ce46e0ac02b612b47b85a0",
            "dac5b8f5230d42a1afa32c5c6e590667",
            "c03597556e874be4ad80795a2c40c7b8",
            "7b404c0c0870414b825a67c669c27017",
            "9099b9a5b4ef468f8d26e7100d7bfe89",
            "99181607ada94a49bb7d3b356cf1a06b",
            "e90a665095b146eeb90dad122516b2ce",
            "4feb7ae5ab5e4f7d81194d3fb55aff70",
            "93838247822f4c0eb6230bb2c371bccf",
            "2620ad49d56b4cdeb84782f217db1f50",
            "deb5b40847034cc2adb3583e35d56015",
            "3b6b4720df18401f8fd1ddce4cc2274a",
            "89588c5b2e0543a49783cc3549202145",
            "17d4a567da6c4484bf538c1a8a8d5937",
            "c1039b488cff4dc793970aa294615826",
            "7faef7d1f2604691a7e3f758d06bd4ce",
            "7d00c1be36994878b5d53be5f555c59f",
            "58ef3d898f614343bf706959832af58e",
            "76922c2d06bf48fd88c798ec9fcda88f",
            "473d55eb5cb4472cb75502b7152ded26",
            "a5c89fef5d1d4c99a7796086617f78a1",
            "a3e2b7b4af3c46339c226a4857d0d7f8",
            "102fa5bccb8044e39b13cab96e9f04a5",
            "7e3edaba6b1849c9adcfcdb3cf91159b",
            "d7964c50c305481abc114fa5605cba3e",
            "b0f6fe8b38fc4ed9baa2f60eb933be7e",
            "540273a15fce44d2a35c402edc14a3c6",
            "635614b151e243e086b84bc6170d85a6",
            "de9cb72575894fc5890824d45cf89000",
            "27026288ea284b069f120f6c9414f8ce",
            "d04b4302a4c84fdaa5d0fedb77786483",
            "91deae4326684f4a8604a2bcaa6a063c",
            "dd7a84ead21b4124a2c4c4a82503c7cd",
            "37de478154e045e1b4ee88d134dfb43e"
          ]
        },
        "id": "qRiXCGTkr26B",
        "outputId": "976b77e6-2129-4ca4-c207-d3af4cd2920b"
      },
      "outputs": [
        {
          "name": "stdout",
          "output_type": "stream",
          "text": [
            "Downloading http://fashion-mnist.s3-website.eu-central-1.amazonaws.com/train-images-idx3-ubyte.gz\n",
            "Downloading http://fashion-mnist.s3-website.eu-central-1.amazonaws.com/train-images-idx3-ubyte.gz to ./FashionMNIST/raw/train-images-idx3-ubyte.gz\n"
          ]
        },
        {
          "data": {
            "application/vnd.jupyter.widget-view+json": {
              "model_id": "b4fa7e4f31404ec3bb919e6d7bdbbe86",
              "version_major": 2,
              "version_minor": 0
            },
            "text/plain": [
              "  0%|          | 0/26421880 [00:00<?, ?it/s]"
            ]
          },
          "metadata": {},
          "output_type": "display_data"
        },
        {
          "name": "stdout",
          "output_type": "stream",
          "text": [
            "Extracting ./FashionMNIST/raw/train-images-idx3-ubyte.gz to ./FashionMNIST/raw\n",
            "\n",
            "Downloading http://fashion-mnist.s3-website.eu-central-1.amazonaws.com/train-labels-idx1-ubyte.gz\n",
            "Downloading http://fashion-mnist.s3-website.eu-central-1.amazonaws.com/train-labels-idx1-ubyte.gz to ./FashionMNIST/raw/train-labels-idx1-ubyte.gz\n"
          ]
        },
        {
          "data": {
            "application/vnd.jupyter.widget-view+json": {
              "model_id": "dac5b8f5230d42a1afa32c5c6e590667",
              "version_major": 2,
              "version_minor": 0
            },
            "text/plain": [
              "  0%|          | 0/29515 [00:00<?, ?it/s]"
            ]
          },
          "metadata": {},
          "output_type": "display_data"
        },
        {
          "name": "stdout",
          "output_type": "stream",
          "text": [
            "Extracting ./FashionMNIST/raw/train-labels-idx1-ubyte.gz to ./FashionMNIST/raw\n",
            "\n",
            "Downloading http://fashion-mnist.s3-website.eu-central-1.amazonaws.com/t10k-images-idx3-ubyte.gz\n",
            "Downloading http://fashion-mnist.s3-website.eu-central-1.amazonaws.com/t10k-images-idx3-ubyte.gz to ./FashionMNIST/raw/t10k-images-idx3-ubyte.gz\n"
          ]
        },
        {
          "data": {
            "application/vnd.jupyter.widget-view+json": {
              "model_id": "89588c5b2e0543a49783cc3549202145",
              "version_major": 2,
              "version_minor": 0
            },
            "text/plain": [
              "  0%|          | 0/4422102 [00:00<?, ?it/s]"
            ]
          },
          "metadata": {},
          "output_type": "display_data"
        },
        {
          "name": "stdout",
          "output_type": "stream",
          "text": [
            "Extracting ./FashionMNIST/raw/t10k-images-idx3-ubyte.gz to ./FashionMNIST/raw\n",
            "\n",
            "Downloading http://fashion-mnist.s3-website.eu-central-1.amazonaws.com/t10k-labels-idx1-ubyte.gz\n",
            "Downloading http://fashion-mnist.s3-website.eu-central-1.amazonaws.com/t10k-labels-idx1-ubyte.gz to ./FashionMNIST/raw/t10k-labels-idx1-ubyte.gz\n"
          ]
        },
        {
          "data": {
            "application/vnd.jupyter.widget-view+json": {
              "model_id": "7e3edaba6b1849c9adcfcdb3cf91159b",
              "version_major": 2,
              "version_minor": 0
            },
            "text/plain": [
              "  0%|          | 0/5148 [00:00<?, ?it/s]"
            ]
          },
          "metadata": {},
          "output_type": "display_data"
        },
        {
          "name": "stdout",
          "output_type": "stream",
          "text": [
            "Extracting ./FashionMNIST/raw/t10k-labels-idx1-ubyte.gz to ./FashionMNIST/raw\n",
            "\n"
          ]
        }
      ],
      "source": [
        "train_dataset = torchvision.datasets.FashionMNIST(train=True,\n",
        "                                                  root='.',\n",
        "                                                  download=True,\n",
        "                                                  transform=transforms.ToTensor()\n",
        "                                                  )"
      ]
    },
    {
      "cell_type": "code",
      "execution_count": null,
      "metadata": {
        "id": "IkkFyfCStLgE"
      },
      "outputs": [],
      "source": [
        "X_train=train_dataset.data\n",
        "y_train=train_dataset.targets"
      ]
    },
    {
      "cell_type": "code",
      "execution_count": null,
      "metadata": {
        "id": "iTWpK5i1vgkv"
      },
      "outputs": [],
      "source": [
        "test_dataset = torchvision.datasets.FashionMNIST(\n",
        "    download=True,\n",
        "    root='.',\n",
        "    train=False,\n",
        "    transform = transforms.ToTensor()\n",
        ")"
      ]
    },
    {
      "cell_type": "code",
      "execution_count": null,
      "metadata": {
        "id": "RtS0uYTQwAd7"
      },
      "outputs": [],
      "source": [
        "X_test=test_dataset.data\n",
        "y_test=test_dataset.targets"
      ]
    },
    {
      "cell_type": "code",
      "execution_count": null,
      "metadata": {
        "colab": {
          "base_uri": "https://localhost:8080/"
        },
        "id": "UZEIMZhKxYRp",
        "outputId": "057ece9e-19f4-45cf-c6af-f1f9b28a055a"
      },
      "outputs": [
        {
          "name": "stdout",
          "output_type": "stream",
          "text": [
            "['T-shirt/top', 'Trouser', 'Pullover', 'Dress', 'Coat', 'Sandal', 'Shirt', 'Sneaker', 'Bag', 'Ankle boot']\n",
            "10\n"
          ]
        }
      ],
      "source": [
        "print(train_dataset.classes)\n",
        "K=len(train_dataset.classes)\n",
        "print(K)"
      ]
    },
    {
      "cell_type": "code",
      "execution_count": null,
      "metadata": {
        "id": "5m-piufsxmYM"
      },
      "outputs": [],
      "source": [
        "class CNN(nn.Module):\n",
        "  def __init__(self,K):\n",
        "    super().__init__()\n",
        "    self.conv_layers = nn.Sequential(\n",
        "        nn.Conv2d(in_channels=1,out_channels=32,kernel_size=3,stride=2),\n",
        "        nn.ReLU(),\n",
        "        nn.Conv2d(in_channels=32,out_channels=64,kernel_size=3,stride=2),\n",
        "        nn.ReLU(),\n",
        "        nn.Conv2d(in_channels=64,out_channels=128,kernel_size=3,stride=2),\n",
        "        nn.ReLU()\n",
        "    )\n",
        "    self.dense_layers = nn.Sequential(\n",
        "        nn.Dropout(0.2),\n",
        "        nn.Linear(128*2*2,512),\n",
        "        nn.ReLU(),\n",
        "        nn.Linear(512,K)\n",
        "    )\n",
        "  def forward(self,x):\n",
        "      x=self.conv_layers(x)\n",
        "      x=x.view(x.size(0),-1)\n",
        "      x=self.dense_layers(x)\n",
        "      return x\n"
      ]
    },
    {
      "cell_type": "code",
      "execution_count": null,
      "metadata": {
        "id": "CcL0Xj1B9F9W"
      },
      "outputs": [],
      "source": [
        "model=CNN(K)"
      ]
    },
    {
      "cell_type": "code",
      "execution_count": null,
      "metadata": {
        "colab": {
          "base_uri": "https://localhost:8080/"
        },
        "id": "Nlf1fk2w-r4G",
        "outputId": "58b89a6b-5f26-423e-ca8a-bedcf0257c40"
      },
      "outputs": [
        {
          "data": {
            "text/plain": [
              "CNN(\n",
              "  (conv_layers): Sequential(\n",
              "    (0): Conv2d(1, 32, kernel_size=(3, 3), stride=(2, 2))\n",
              "    (1): ReLU()\n",
              "    (2): Conv2d(32, 64, kernel_size=(3, 3), stride=(2, 2))\n",
              "    (3): ReLU()\n",
              "    (4): Conv2d(64, 128, kernel_size=(3, 3), stride=(2, 2))\n",
              "    (5): ReLU()\n",
              "  )\n",
              "  (dense_layers): Sequential(\n",
              "    (0): Dropout(p=0.2, inplace=False)\n",
              "    (1): Linear(in_features=512, out_features=512, bias=True)\n",
              "    (2): ReLU()\n",
              "    (3): Linear(in_features=512, out_features=10, bias=True)\n",
              "  )\n",
              ")"
            ]
          },
          "execution_count": 21,
          "metadata": {},
          "output_type": "execute_result"
        }
      ],
      "source": [
        "device = 'cuda' if torch.cuda.is_available() else 'cpu'\n",
        "model.to(device)"
      ]
    },
    {
      "cell_type": "code",
      "execution_count": null,
      "metadata": {
        "id": "vr-M1306BJKL"
      },
      "outputs": [],
      "source": [
        "loss_fn = nn.CrossEntropyLoss()\n",
        "optimizer = torch.optim.Adam(model.parameters())"
      ]
    },
    {
      "cell_type": "code",
      "execution_count": null,
      "metadata": {
        "id": "wd1kbRq4CAak"
      },
      "outputs": [],
      "source": [
        "batch_size = 128\n",
        "Train_loader = torch.utils.data.DataLoader(dataset=train_dataset,\n",
        "                                           shuffle=True,\n",
        "                                           batch_size=batch_size)\n",
        "\n",
        "Test_loader = torch.utils.data.DataLoader(dataset=test_dataset,\n",
        "                                           shuffle=False,\n",
        "                                           batch_size=batch_size)"
      ]
    },
    {
      "cell_type": "code",
      "execution_count": null,
      "metadata": {
        "colab": {
          "base_uri": "https://localhost:8080/"
        },
        "id": "K_eAMO6tFSko",
        "outputId": "406f17e5-0b94-414e-f28d-673f1112de7c"
      },
      "outputs": [
        {
          "name": "stdout",
          "output_type": "stream",
          "text": [
            "Epoch 1/15 | Train Loss:0.65 | Test Loss:0.51 | Duration:0:00:11.792235\n",
            "Epoch 2/15 | Train Loss:0.42 | Test Loss:0.42 | Duration:0:00:07.498095\n",
            "Epoch 3/15 | Train Loss:0.36 | Test Loss:0.37 | Duration:0:00:08.186470\n",
            "Epoch 4/15 | Train Loss:0.33 | Test Loss:0.35 | Duration:0:00:08.176054\n",
            "Epoch 5/15 | Train Loss:0.30 | Test Loss:0.36 | Duration:0:00:08.643112\n",
            "Epoch 6/15 | Train Loss:0.28 | Test Loss:0.33 | Duration:0:00:08.128184\n",
            "Epoch 7/15 | Train Loss:0.26 | Test Loss:0.31 | Duration:0:00:12.025603\n",
            "Epoch 8/15 | Train Loss:0.25 | Test Loss:0.32 | Duration:0:00:08.235182\n",
            "Epoch 9/15 | Train Loss:0.23 | Test Loss:0.30 | Duration:0:00:08.973510\n",
            "Epoch 10/15 | Train Loss:0.22 | Test Loss:0.30 | Duration:0:00:08.259125\n",
            "Epoch 11/15 | Train Loss:0.20 | Test Loss:0.30 | Duration:0:00:08.245331\n",
            "Epoch 12/15 | Train Loss:0.19 | Test Loss:0.29 | Duration:0:00:07.609996\n",
            "Epoch 13/15 | Train Loss:0.18 | Test Loss:0.29 | Duration:0:00:08.147800\n",
            "Epoch 14/15 | Train Loss:0.17 | Test Loss:0.31 | Duration:0:00:08.258366\n",
            "Epoch 15/15 | Train Loss:0.16 | Test Loss:0.32 | Duration:0:00:07.746015\n"
          ]
        }
      ],
      "source": [
        "n_epoch=15\n",
        "train_losses=torch.zeros(n_epoch)\n",
        "test_losses=torch.zeros(n_epoch)\n",
        "for it in range(n_epoch):\n",
        "  model.train()\n",
        "  t0=datetime.now()\n",
        "  train_loss=[]\n",
        "  for input,target in Train_loader:\n",
        "    input,target=input.to(device) , target.to(device)\n",
        "    optimizer.zero_grad()\n",
        "    outputs=model(input)\n",
        "    error=loss_fn(outputs,target)\n",
        "    error.backward()\n",
        "    optimizer.step()\n",
        "    train_loss.append(error.item())\n",
        "  train_losses[it]=np.mean(train_loss)\n",
        "  test_loss=[]\n",
        "  for input,target in Test_loader:\n",
        "    model.eval()\n",
        "    with torch.inference_mode():\n",
        "      input,target=input.to(device) , target.to(device)\n",
        "      outputs=model(input)\n",
        "      error=loss_fn(outputs,target)\n",
        "      test_loss.append(error.item())\n",
        "  test_losses[it]=np.mean(test_loss)\n",
        "  dt=datetime.now()-t0\n",
        "  print(f'Epoch {it+1}/{n_epoch} | Train Loss:{train_losses[it]:.2f} | Test Loss:{test_losses[it]:.2f} | Duration:{dt}')"
      ]
    },
    {
      "cell_type": "code",
      "execution_count": null,
      "metadata": {
        "colab": {
          "base_uri": "https://localhost:8080/",
          "height": 265
        },
        "id": "EqbPI886F_Ay",
        "outputId": "745f4248-26fe-49e0-a571-28a552d27cac"
      },
      "outputs": [
        {
          "data": {
            "image/png": "[encoded data removed]",
            "text/plain": [
              "<Figure size 432x288 with 1 Axes>"
            ]
          },
          "metadata": {},
          "output_type": "display_data"
        }
      ],
      "source": [
        "plt.plot(train_losses,label='train')\n",
        "plt.plot(test_losses,label='test')\n",
        "plt.legend()\n",
        "plt.show()"
      ]
    },
    {
      "cell_type": "code",
      "execution_count": null,
      "metadata": {
        "colab": {
          "base_uri": "https://localhost:8080/"
        },
        "id": "secxER1AKvrb",
        "outputId": "36a7605b-323e-4dfc-9e6c-52e5f1344637"
      },
      "outputs": [
        {
          "name": "stdout",
          "output_type": "stream",
          "text": [
            "0.9544333333333334\n"
          ]
        }
      ],
      "source": [
        "model.eval()\n",
        "with torch.inference_mode():\n",
        "  n_correct=0\n",
        "  n_total=0\n",
        "  for inputs,targets in Train_loader:\n",
        "    inputs,targets = inputs.to(device),targets.to(device)\n",
        "    outputs = model(inputs)\n",
        "    _,predection = torch.max(outputs,1)\n",
        "    n_correct+=(predection == targets).sum().item()\n",
        "    n_total+=targets.shape[0]\n",
        "  train_acc = n_correct/n_total\n",
        "print(train_acc)"
      ]
    },
    {
      "cell_type": "code",
      "execution_count": null,
      "metadata": {
        "colab": {
          "base_uri": "https://localhost:8080/"
        },
        "id": "1XYuwvHXLcVV",
        "outputId": "a480adff-4f36-4abc-caf5-e70c56c96df7"
      },
      "outputs": [
        {
          "name": "stdout",
          "output_type": "stream",
          "text": [
            "0.9051\n"
          ]
        }
      ],
      "source": [
        "model.eval()\n",
        "with torch.inference_mode():\n",
        "  n_correct=0\n",
        "  n_total=0\n",
        "  for inputs,targets in Test_loader:\n",
        "    inputs,targets = inputs.to(device),targets.to(device)\n",
        "    outputs = model(inputs)\n",
        "    _,predection = torch.max(outputs,1)\n",
        "    n_correct+=(predection == targets).sum().item()\n",
        "    n_total+=targets.shape[0]\n",
        "  test_acc = n_correct/n_total\n",
        "print(test_acc)"
      ]
    },
    {
      "cell_type": "code",
      "execution_count": null,
      "metadata": {
        "id": "FTnLjh0jOvfy"
      },
      "outputs": [],
      "source": [
        "from sklearn.metrics import confusion_matrix,ConfusionMatrixDisplay\n",
        "import seaborn as sns"
      ]
    },
    {
      "cell_type": "code",
      "execution_count": null,
      "metadata": {
        "id": "sWhwp-tmO_L4"
      },
      "outputs": [],
      "source": [
        "y_test = test_dataset.targets.numpy()\n",
        "p_test= np.array([])\n",
        "for input , target in Test_loader:\n",
        "  input,target = input.to(device) , target.to(device)\n",
        "  output = model(input)\n",
        "  _,perdictions = output.max(1)\n",
        "  p_test = np.concatenate((p_test,perdictions.cpu().numpy()))"
      ]
    },
    {
      "cell_type": "code",
      "execution_count": null,
      "metadata": {
        "colab": {
          "base_uri": "https://localhost:8080/",
          "height": 470
        },
        "id": "0l6z3hHgOlcQ",
        "outputId": "c21215df-5d9e-488e-d119-942f31104b69"
      },
      "outputs": [
        {
          "name": "stdout",
          "output_type": "stream",
          "text": [
            "\n",
            "[[887   1  19  18   2   1  65   0   7   0]\n",
            " [  2 977   1  14   2   0   2   0   2   0]\n",
            " [ 18   1 821  12  51   0  94   0   3   0]\n",
            " [  8   9   6 938  11   1  26   0   1   0]\n",
            " [  0   1  37  32 815   0 112   0   3   0]\n",
            " [  1   0   0   1   0 977   0  14   1   6]\n",
            " [119   0  47  23  54   0 748   0   9   0]\n",
            " [  0   0   0   0   0  20   0 938   0  42]\n",
            " [  2   1   1   4   1   1   7   2 981   0]\n",
            " [  0   0   0   0   0   7   1  22   1 969]]\n"
          ]
        },
        {
          "data": {
            "image/png": "[encoded data removed]",
            "text/plain": [
              "<Figure size 432x288 with 2 Axes>"
            ]
          },
          "metadata": {},
          "output_type": "display_data"
        }
      ],
      "source": [
        "cm = confusion_matrix(y_test, p_test, labels=[0,1,2,3,4,5,6,7,8,9])\n",
        "disp = ConfusionMatrixDisplay(confusion_matrix=cm,\n",
        "                               display_labels=[0,1,2,3,4,5,6,7,8,9])\n",
        "disp.plot()\n",
        "\n",
        "print(cm)\n"
      ]
    },
    {
      "cell_type": "code",
      "execution_count": null,
      "metadata": {
        "id": "OJdcQWMcOuX4"
      },
      "outputs": [],
      "source": [
        "Labels=train_dataset.classes"
      ]
    },
    {
      "cell_type": "code",
      "execution_count": null,
      "metadata": {
        "colab": {
          "base_uri": "https://localhost:8080/",
          "height": 281
        },
        "id": "FwNA02usPBrh",
        "outputId": "a3d85aed-d6ed-4241-d959-e3c9f67e6c1d"
      },
      "outputs": [
        {
          "data": {
            "image/png": "[encoded data removed]",
            "text/plain": [
              "<Figure size 432x288 with 1 Axes>"
            ]
          },
          "metadata": {},
          "output_type": "display_data"
        }
      ],
      "source": [
        "x_test = X_test.cpu().numpy()\n",
        "misMatch=np.where(y_test != p_test)[0]\n",
        "index=np.random.choice(misMatch)\n",
        "plt.imshow(x_test[index],cmap='gray')\n",
        "plt.title(f'true label {Labels[y_test[index]]} , predeicted : {Labels[int(p_test[index])]}')\n",
        "plt.show()"
      ]
    },
    {
      "cell_type": "code",
      "execution_count": null,
      "metadata": {
        "id": "m1ov-dQHPSnv"
      },
      "outputs": [],
      "source": [
        "## Exercise :\n",
        "# ANN with Fashion MNIST?\n",
        "# CNN with MNIST?"
      ]
    }
  ],
  "metadata": {
    "colab": {
      "provenance": []
    },
    "kernelspec": {
      "display_name": "Python 3",
      "name": "python3"
    },
    "language_info": {
      "name": "python"
    }
  },
  "nbformat": 4,
  "nbformat_minor": 0
}
